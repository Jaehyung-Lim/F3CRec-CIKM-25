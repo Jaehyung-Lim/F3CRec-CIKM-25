{
 "cells": [
  {
   "cell_type": "code",
   "execution_count": 8,
   "metadata": {},
   "outputs": [],
   "source": [
    "import pandas as pd\n",
    "import pickle\n",
    "from sklearn.model_selection import train_test_split"
   ]
  },
  {
   "cell_type": "code",
   "execution_count": 9,
   "metadata": {},
   "outputs": [],
   "source": [
    "# Load the dataset\n",
    "file_path = './ml-100k.rating.data'\n",
    "columns = ['user', 'item', 'rating', 'timestamp']\n",
    "ratings = pd.read_csv(file_path, sep='\\t', names=columns, engine='python')\n",
    "\n",
    "# Step 1: Keep only interactions with a rating of 4 or above\n",
    "positive_ratings = ratings[ratings['rating'] > 0]\n",
    "\n",
    "# Step 2: Apply k-core filtering\n",
    "def filter_k_core(df, k=10):\n",
    "    while True:\n",
    "        before_shape = df.shape[0]\n",
    "        user_counts = df['user'].value_counts()\n",
    "        item_counts = df['item'].value_counts()\n",
    "        \n",
    "        df = df[df['user'].isin(user_counts[user_counts >= k].index)]\n",
    "        df = df[df['item'].isin(item_counts[item_counts >= k].index)]\n",
    "        \n",
    "        after_shape = df.shape[0]\n",
    "        if before_shape == after_shape:\n",
    "            break\n",
    "    return df\n",
    "\n",
    "filtered_ratings = filter_k_core(positive_ratings, k=10)\n",
    "#filtered_ratings = positive_ratings\n",
    "\n",
    "# Step 3: Sort the data by timestamp\n",
    "filtered_ratings = filtered_ratings.sort_values(by='timestamp')\n",
    "\n",
    "# Step 4: Remap user and item IDs starting from 0\n",
    "unique_user_ids = filtered_ratings['user'].unique()\n",
    "unique_item_ids = filtered_ratings['item'].unique()\n",
    "\n",
    "user_id_map = {old_id: new_id for new_id, old_id in enumerate(unique_user_ids)}\n",
    "item_id_map = {old_id: new_id for new_id, old_id in enumerate(unique_item_ids)}\n",
    "\n",
    "filtered_ratings['user'] = filtered_ratings['user'].map(user_id_map)\n",
    "filtered_ratings['item'] = filtered_ratings['item'].map(item_id_map)\n",
    "\n",
    "# Assign unique interaction IDs starting from 0\n",
    "filtered_ratings['interactionId'] = range(len(filtered_ratings))\n",
    "\n",
    "# Step 5: Determine splits based on interaction counts\n",
    "total_interactions = len(filtered_ratings)\n",
    "base_count = int(total_interactions * 0.6)\n",
    "inc1_count = int(total_interactions * 0.4/3)\n",
    "inc2_count = int(total_interactions * 0.4/3)\n",
    "inc3_count = total_interactions - (base_count + inc1_count + inc2_count)\n",
    "\n",
    "# Step 6: Split the data based on interaction counts\n",
    "base_data = filtered_ratings.iloc[:base_count]\n",
    "inc1_data = filtered_ratings.iloc[base_count:base_count + inc1_count]\n",
    "inc2_data = filtered_ratings.iloc[base_count + inc1_count:base_count + inc1_count + inc2_count]\n",
    "inc3_data = filtered_ratings.iloc[base_count + inc1_count + inc2_count:]"
   ]
  },
  {
   "cell_type": "code",
   "execution_count": 10,
   "metadata": {},
   "outputs": [
    {
     "name": "stdout",
     "output_type": "stream",
     "text": [
      "base block accum_user: 587\n",
      "base block accum_item: 1136\n",
      "base block num_interactions: 58771\n",
      "\n",
      "\n",
      "inc1 accum_user: 697\n",
      "inc1 accum_item: 1146\n",
      "inc1 num_interactions: 13060\n",
      "\n",
      "\n",
      "inc2 accum_user: 827\n",
      "inc2 accum_item: 1148\n",
      "inc2 num_interactions: 13060\n",
      "\n",
      "\n",
      "inc3 block accum_user: 943\n",
      "inc3 accum_item: 1152\n",
      "inc3 num_interactions: 13062\n"
     ]
    }
   ],
   "source": [
    "print(f\"base block accum_user: {base_data['user'].max() + 1}\")\n",
    "print(f\"base block accum_item: {base_data['item'].max() + 1}\")\n",
    "print(f\"base block num_interactions: {len(base_data)}\\n\\n\")\n",
    "\n",
    "print(f\"inc1 accum_user: {inc1_data['user'].max() + 1}\")\n",
    "print(f\"inc1 accum_item: {inc1_data['item'].max() + 1}\")\n",
    "print(f\"inc1 num_interactions: {len(inc1_data)}\\n\\n\")\n",
    "\n",
    "print(f\"inc2 accum_user: {inc2_data['user'].max() + 1}\")\n",
    "print(f\"inc2 accum_item: {inc2_data['item'].max() + 1}\")\n",
    "print(f\"inc2 num_interactions: {len(inc2_data)}\\n\\n\")\n",
    "\n",
    "print(f\"inc3 block accum_user: {inc3_data['user'].max() + 1}\")\n",
    "print(f\"inc3 accum_item: {inc3_data['item'].max() + 1}\")\n",
    "print(f\"inc3 num_interactions: {len(inc3_data)}\")"
   ]
  }
 ],
 "metadata": {
  "kernelspec": {
   "display_name": "fcrec",
   "language": "python",
   "name": "python3"
  },
  "language_info": {
   "codemirror_mode": {
    "name": "ipython",
    "version": 3
   },
   "file_extension": ".py",
   "mimetype": "text/x-python",
   "name": "python",
   "nbconvert_exporter": "python",
   "pygments_lexer": "ipython3",
   "version": "3.11.4"
  }
 },
 "nbformat": 4,
 "nbformat_minor": 2
}
